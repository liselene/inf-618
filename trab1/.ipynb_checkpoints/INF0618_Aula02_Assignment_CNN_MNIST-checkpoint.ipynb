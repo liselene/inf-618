{
 "cells": [
  {
   "cell_type": "code",
   "execution_count": 1,
   "metadata": {},
   "outputs": [],
   "source": [
    "%matplotlib inline"
   ]
  },
  {
   "cell_type": "markdown",
   "metadata": {},
   "source": [
    "# Assignment 01 - Exploring CNNs for MNIST\n",
    "\n",
    "In this assignment, we want you to modify the CNN architecture that we used in the last MNIST exercise, adding new layers and altering their hyperparameters. We have already loaded and preprocessed the data for you, so you can focus on the architecture and training of your network."
   ]
  },
  {
   "cell_type": "markdown",
   "metadata": {},
   "source": [
    "----------------------\n",
    "*** You do not need to alter the blocks `Imports`, `Load training data` and `Preprocessing` ***\n",
    "## Imports"
   ]
  },
  {
   "cell_type": "code",
   "execution_count": 2,
   "metadata": {},
   "outputs": [
    {
     "name": "stderr",
     "output_type": "stream",
     "text": [
      "Using TensorFlow backend.\n"
     ]
    }
   ],
   "source": [
    "import numpy as np\n",
    "from random import shuffle, seed\n",
    "seed(42)  #keep this seed, in order to compare the results with your classmates\n",
    "\n",
    "import matplotlib.pyplot as plt\n",
    "plt.rcParams['figure.figsize'] = (15,15) # Make the figures a bit bigger\n",
    "\n",
    "from keras.datasets import mnist\n",
    "from keras.models import Sequential\n",
    "from keras.layers.core import Dense, Dropout, Flatten\n",
    "from keras.layers import Conv2D, MaxPooling2D\n",
    "from keras.utils import np_utils\n",
    "from keras import optimizers"
   ]
  },
  {
   "cell_type": "markdown",
   "metadata": {},
   "source": [
    "## Load training data"
   ]
  },
  {
   "cell_type": "code",
   "execution_count": 3,
   "metadata": {},
   "outputs": [],
   "source": [
    "nb_classes = 10\n",
    "\n",
    "# the data, shuffled and split between trainVal and test sets\n",
    "(trainVal_data, trainVal_label), (X_test, y_test) = mnist.load_data()\n",
    "\n",
    "# We want now to split the trainVal data into train and validation sets\n",
    "nData = trainVal_data.shape[0]  #find the size of trainVal\n",
    "nTrain = int(nData * 0.8)  #80% to train, 20% to val\n",
    "\n",
    "randomIdx = list(range(nData))   #randomly select indexes\n",
    "shuffle(randomIdx)\n",
    "trainIdx = randomIdx[:nTrain] \n",
    "valIdx = randomIdx[nTrain:]\n",
    "\n",
    "# Split the data\n",
    "X_val, y_val = trainVal_data[valIdx], trainVal_label[valIdx]\n",
    "X_train, y_train = trainVal_data[trainIdx], trainVal_label[trainIdx]"
   ]
  },
  {
   "cell_type": "markdown",
   "metadata": {},
   "source": [
    "## Obtain class weights and samples per class"
   ]
  },
  {
   "cell_type": "code",
   "execution_count": 23,
   "metadata": {},
   "outputs": [
    {
     "name": "stdout",
     "output_type": "stream",
     "text": [
      "Train --->  {0: 4724, 1: 5393, 2: 4723, 3: 4881, 4: 4704, 5: 4313, 6: 4769, 7: 5001, 8: 4730, 9: 4762} \n",
      "\n",
      "{0: 1.0160880609652836, 1: 0.8900426478768775, 2: 1.0163031971204743, 3: 0.9834050399508297, 4: 1.0204081632653061, 5: 1.1129144447020636, 6: 1.0065003145313483, 7: 0.9598080383923215, 8: 1.014799154334038, 9: 1.0079798404031919} \n",
      "\n"
     ]
    }
   ],
   "source": [
    "unique, counts = np.unique(y_train, return_counts=True)\n",
    "print(\"Train ---> \", dict(zip(unique, counts)), \"\\n\")\n",
    "\n",
    "\n",
    "from sklearn.utils.class_weight import compute_class_weight\n",
    "class_weights = compute_class_weight('balanced', np.unique(y_train), y_train)\n",
    "train_class_weights = dict(enumerate(class_weights))\n",
    "\n",
    "print(train_class_weights, \"\\n\")\n",
    "\n",
    "unique, counts = np.unique(y_test, return_counts=True)\n",
    "test_sample_per_class = counts"
   ]
  },
  {
   "cell_type": "markdown",
   "metadata": {},
   "source": [
    "## Preprocessing"
   ]
  },
  {
   "cell_type": "code",
   "execution_count": 13,
   "metadata": {},
   "outputs": [
    {
     "name": "stdout",
     "output_type": "stream",
     "text": [
      "Training matrix shape (48000, 28, 28, 1)\n",
      "Validation matrix shape (12000, 28, 28, 1)\n",
      "Testing matrix shape (10000, 28, 28, 1)\n"
     ]
    }
   ],
   "source": [
    "img_rows, img_cols = 28, 28\n",
    "\n",
    "#The first dimension refers to the number of images\n",
    "X_train = X_train.reshape(X_train.shape[0], img_rows, img_cols, 1)\n",
    "X_val = X_val.reshape(X_val.shape[0], img_rows, img_cols, 1)\n",
    "X_test = X_test.reshape(X_test.shape[0], img_rows, img_cols, 1)\n",
    "\n",
    "X_train = X_train.astype('float32')\n",
    "X_val = X_val.astype('float32')\n",
    "X_test = X_test.astype('float32')\n",
    "\n",
    "X_train /= 255\n",
    "X_val /= 255\n",
    "X_test /= 255\n",
    "\n",
    "Y_train = np_utils.to_categorical(y_train, nb_classes)\n",
    "Y_val = np_utils.to_categorical(y_val, nb_classes)\n",
    "Y_test = np_utils.to_categorical(y_test, nb_classes)\n",
    "\n",
    "print(\"Training matrix shape\", X_train.shape)\n",
    "print(\"Validation matrix shape\", X_val.shape)\n",
    "print(\"Testing matrix shape\", X_test.shape)"
   ]
  },
  {
   "cell_type": "markdown",
   "metadata": {},
   "source": [
    "------------------------------------------\n",
    "------------------------------------------\n",
    "------------------------------------------\n",
    "------------------------------------------"
   ]
  },
  {
   "cell_type": "markdown",
   "metadata": {},
   "source": [
    "***Your assignment starts here!!!***\n",
    "\n",
    "# Task 1 [0.25 pts] - Add a fully-connected layer\n",
    "Let's investigate if the network gets better as we add more layers to it. We want you to add another fully-connected layer to the network from last exercise. Your network will have:\n",
    "- Convolutional layer with 10 filters of size 5x5 with ReLU activation;\n",
    "- Max pooling layer with kernel 2x2, that will reduce each spatial dimension by half (24x24 to 12x12);\n",
    "- An operation to flatten the feature maps into an array of size 10x12x12 = 1440\n",
    "- Dropout operation with probability 0.25, applied to flattened array\n",
    "- **Fully connected layer with 100 units/neurons and ReLU activation;**\n",
    "- Fully connected layer with units/neurons equal to the number of classes in our problem (in this case, 10);\n",
    "- Softmax activation on the last FC layer.\n",
    "\n",
    "The architecture will look like this:\n"
   ]
  },
  {
   "cell_type": "markdown",
   "metadata": {},
   "source": [
    "<img src=\"task1_cnn.png\" />"
   ]
  },
  {
   "cell_type": "code",
   "execution_count": 20,
   "metadata": {},
   "outputs": [],
   "source": [
    "# define your model here\n",
    "model = Sequential()\n",
    "\n",
    "#Conv layer with 10 filters of size 5x5 and ReLU activation\n",
    "model.add(Conv2D(10, kernel_size=(5,5), activation='relu', input_shape=(28,28,1)))\n",
    "\n",
    "#Max pooling of size 2x2\n",
    "model.add(MaxPooling2D(pool_size=(2,2)))\n",
    "\n",
    "#Flatten operation\n",
    "model.add(Flatten())\n",
    "\n",
    "#Dropout with probability 0.25\n",
    "model.add(Dropout(0,25))\n",
    "\n",
    "#FC layer with 100 neurons and softmax activation\n",
    "model.add(Dense(100, activation='relu'))\n",
    "\n",
    "#FC layer with 10 neurons and softmax activation\n",
    "model.add(Dense(10, activation='softmax'))"
   ]
  },
  {
   "cell_type": "markdown",
   "metadata": {},
   "source": [
    "## Compile and train your model"
   ]
  },
  {
   "cell_type": "code",
   "execution_count": 21,
   "metadata": {},
   "outputs": [],
   "source": [
    "# compile and train your model\n",
    "model.compile(loss='categorical_crossentropy',optimizer='sgd',metrics=['accuracy'])"
   ]
  },
  {
   "cell_type": "markdown",
   "metadata": {},
   "source": [
    "## Evaluate on the test data"
   ]
  },
  {
   "cell_type": "code",
   "execution_count": 24,
   "metadata": {},
   "outputs": [
    {
     "name": "stdout",
     "output_type": "stream",
     "text": [
      "10000/10000 [==============================] - 2s 183us/step\n",
      "Test loss: 2.3027055946350097\n",
      "Test accuracy (NOT NORMALIZED): 0.0857\n",
      "{0: 0.0020408163265306124, 1: 0.48105726872246696, 2: 0.003875968992248062, 3: 0.0, 4: 0.0814663951120163, 5: 0.09080717488789238, 6: 0.011482254697286013, 7: 0.11964980544747082, 8: 0.002053388090349076, 9: 0.007928642220019821} \n",
      "\n",
      "Normalized Acc -->  0.080036171449628\n"
     ]
    }
   ],
   "source": [
    "score = model.evaluate(X_test, Y_test, verbose=1)\n",
    "print('Test loss:', score[0])\n",
    "print('Test accuracy (NOT NORMALIZED):', score[1])\n",
    "\n",
    "\n",
    "predicted_classes = model.predict_classes(X_test)\n",
    "Y_test_classes = np.argmax(Y_test, axis=-1)\n",
    "\n",
    "accPerClass = []\n",
    "for classIdx in range(nb_classes):\n",
    "    idx = (Y_test_classes == classIdx)\n",
    "    \n",
    "    correctPred = np.sum(predicted_classes[idx] == Y_test_classes[idx])\n",
    "    accPerClass.append( correctPred / float(test_sample_per_class[classIdx]))\n",
    "    \n",
    "print(dict(zip(range(nb_classes),accPerClass)), \"\\n\")\n",
    "print(\"Normalized Acc --> \", np.mean(accPerClass))"
   ]
  },
  {
   "cell_type": "markdown",
   "metadata": {},
   "source": [
    "----------------\n",
    "----------------\n",
    "# Task 2 [0.25 pts] - Add another (conv + max pooling) layers\n",
    "We want you to add another convolutional layer, followed by a max pooling to the network. Your network will have:\n",
    "- Convolutional layer with 10 filters of size 5x5 with ReLU activation;\n",
    "- Max pooling layer with kernel 2x2, that will reduce each spatial dimension by half (24x24 to 12x12);\n",
    "- **Convolutional layer with 20 filters of size 5x5 with ReLU activation;**\n",
    "- **Max pooling layer with kernel 2x2, that will reduce each spatial dimension by half (8x8 to 4x4);**\n",
    "- An operation to flatten the feature maps into an array of size 20x4x4 = 320\n",
    "- Dropout operation with probability 0.25, applied to flattened array\n",
    "- Fully connected layer with units/neurons equal to the number of classes in our problem (in this case, 10);\n",
    "- Softmax activation on the last FC layer.\n",
    "\n",
    "The architecture will look like this:\n"
   ]
  },
  {
   "cell_type": "markdown",
   "metadata": {},
   "source": [
    "<img src=\"task2_cnn.png\" />"
   ]
  },
  {
   "cell_type": "code",
   "execution_count": 25,
   "metadata": {},
   "outputs": [],
   "source": [
    "# define your model here\n",
    "model = Sequential()\n",
    "\n",
    "#Conv layer with 10 filters of size 5x5 and ReLU activation\n",
    "model.add(Conv2D(10, kernel_size=(5, 5),\n",
    "activation='relu', #ReLU activation\n",
    "input_shape=(28, 28, 1))) #no need to include the batch size\n",
    "\n",
    "#Max pooling of size 2x2\n",
    "model.add(MaxPooling2D(pool_size=(2, 2)))\n",
    "\n",
    "#Conv layer with 20 filters of size 5x5 and ReLU activation\n",
    "model.add(Conv2D(20, kernel_size=(5, 5),\n",
    "activation='relu', #ReLU activation\n",
    "input_shape=(12, 12, 1))) #no need to include the batch size\n",
    "\n",
    "#Max pooling of size 2x2\n",
    "model.add(MaxPooling2D(pool_size=(2, 2))) \n",
    "\n",
    "#Flatten operation\n",
    "model.add(Flatten())\n",
    "\n",
    "#Dropout with probability 0.25\n",
    "model.add(Dropout(0.25))\n",
    "\n",
    "#FC layer with 10 neurons and softmax activation\n",
    "model.add(Dense(10, activation='softmax'))"
   ]
  },
  {
   "cell_type": "markdown",
   "metadata": {},
   "source": [
    "## Compile and train your model"
   ]
  },
  {
   "cell_type": "code",
   "execution_count": 26,
   "metadata": {},
   "outputs": [],
   "source": [
    "# compile and train your model\n",
    "sgd = optimizers.SGD(lr=0.01) #lr = learning rate\n",
    "model.compile(loss='categorical_crossentropy', optimizer=sgd, metrics=['accuracy'])"
   ]
  },
  {
   "cell_type": "markdown",
   "metadata": {},
   "source": [
    "## Evaluate on the test data"
   ]
  },
  {
   "cell_type": "code",
   "execution_count": 27,
   "metadata": {},
   "outputs": [
    {
     "name": "stdout",
     "output_type": "stream",
     "text": [
      "10000/10000 [==============================] - 2s 240us/step\n",
      "Test loss: 2.3025586582183837\n",
      "Test accuracy (NOT NORMALIZED): 0.126\n",
      "{0: 0.2979591836734694, 1: 0.0, 2: 0.0, 3: 0.0, 4: 0.04378818737270876, 5: 0.03139013452914798, 6: 0.8100208768267223, 7: 0.11770428015564202, 8: 0.0, 9: 0.0} \n",
      "\n",
      "Normalized Acc -->  0.13008626625576905\n"
     ]
    }
   ],
   "source": [
    "score = model.evaluate(X_test, Y_test, verbose=1)\n",
    "print('Test loss:', score[0])\n",
    "print('Test accuracy (NOT NORMALIZED):', score[1])\n",
    "\n",
    "\n",
    "predicted_classes = model.predict_classes(X_test)\n",
    "Y_test_classes = np.argmax(Y_test, axis=-1)\n",
    "\n",
    "accPerClass = []\n",
    "for classIdx in range(nb_classes):\n",
    "    idx = (Y_test_classes == classIdx)\n",
    "    \n",
    "    correctPred = np.sum(predicted_classes[idx] == Y_test_classes[idx])\n",
    "    accPerClass.append( correctPred / float(test_sample_per_class[classIdx]))\n",
    "    \n",
    "print(dict(zip(range(nb_classes),accPerClass)), \"\\n\")\n",
    "print(\"Normalized Acc --> \", np.mean(accPerClass))"
   ]
  },
  {
   "cell_type": "markdown",
   "metadata": {},
   "source": [
    "----------------\n",
    "----------------\n",
    "# Task 3 [0.25 pts] - Add Conv + MaxPool + FC\n",
    "Now combine tasks 1 and 2; adding the convolutional, max pooling and fc layer to your network. Your CNN will have:\n",
    "- Convolutional layer with 10 filters of size 5x5 with ReLU activation;\n",
    "- Max pooling layer with kernel 2x2, that will reduce each spatial dimension by half (24x24 to 12x12);\n",
    "- **Convolutional layer with 20 filters of size 5x5 with ReLU activation;**\n",
    "- **Max pooling layer with kernel 2x2, that will reduce each spatial dimension by half (8x8 to 4x4);**\n",
    "- An operation to flatten the feature maps into an array of size 20x4x4 = 320\n",
    "- Dropout operation with probability 0.25, applied to flattened array\n",
    "- **Fully connected layer with 100 units/neurons and ReLU activation;**\n",
    "- Fully connected layer with units/neurons equal to the number of classes in our problem (in this case, 10);\n",
    "- Softmax activation on the last FC layer.\n",
    "\n",
    "The architecture will look like this:\n"
   ]
  },
  {
   "cell_type": "markdown",
   "metadata": {},
   "source": [
    "<img src=\"task3_cnn.png\" />"
   ]
  },
  {
   "cell_type": "code",
   "execution_count": 28,
   "metadata": {},
   "outputs": [],
   "source": [
    "# define your model here\n",
    "model = Sequential()\n",
    "\n",
    "#Conv layer with 10 filters of size 5x5 and ReLU activation\n",
    "model.add(Conv2D(10, kernel_size=(5, 5),\n",
    "activation='relu', #ReLU activation\n",
    "input_shape=(28, 28, 1))) #no need to include the batch size\n",
    "\n",
    "#Max pooling of size 2x2\n",
    "model.add(MaxPooling2D(pool_size=(2, 2)))\n",
    "\n",
    "#Conv layer with 20 filters of size 5x5 and ReLU activation\n",
    "model.add(Conv2D(20, kernel_size=(5, 5),\n",
    "activation='relu', #ReLU activation\n",
    "input_shape=(12, 12, 1))) #no need to include the batch size\n",
    "\n",
    "#Max pooling of size 2x2\n",
    "model.add(MaxPooling2D(pool_size=(2, 2))) \n",
    "\n",
    "#Flatten operation\n",
    "model.add(Flatten())\n",
    "\n",
    "#Dropout with probability 0.25\n",
    "model.add(Dropout(0.25))\n",
    "\n",
    "#FC layer with 100 neurons and softmax activation\n",
    "model.add(Dense(100, activation='relu'))\n",
    "\n",
    "#FC layer with 10 neurons and softmax activation\n",
    "model.add(Dense(10, activation='softmax'))"
   ]
  },
  {
   "cell_type": "markdown",
   "metadata": {},
   "source": [
    "## Compile and train your model"
   ]
  },
  {
   "cell_type": "code",
   "execution_count": 29,
   "metadata": {},
   "outputs": [],
   "source": [
    "# compile and train your model\n",
    "sgd = optimizers.SGD(lr=0.01) #lr = learning rate\n",
    "model.compile(loss='categorical_crossentropy', optimizer=sgd, metrics=['accuracy'])"
   ]
  },
  {
   "cell_type": "markdown",
   "metadata": {},
   "source": [
    "## Evaluate on the test data"
   ]
  },
  {
   "cell_type": "code",
   "execution_count": 30,
   "metadata": {},
   "outputs": [
    {
     "name": "stdout",
     "output_type": "stream",
     "text": [
      "10000/10000 [==============================] - 3s 251us/step\n",
      "Test loss: 2.302569728088379\n",
      "Test accuracy (NOT NORMALIZED): 0.1033\n",
      "{0: 0.0, 1: 0.0, 2: 0.0, 3: 0.009900990099009901, 4: 0.0, 5: 0.0, 6: 0.0, 7: 0.995136186770428, 8: 0.0, 9: 0.0} \n",
      "\n",
      "Normalized Acc -->  0.1005037176869438\n"
     ]
    }
   ],
   "source": [
    "score = model.evaluate(X_test, Y_test, verbose=1)\n",
    "print('Test loss:', score[0])\n",
    "print('Test accuracy (NOT NORMALIZED):', score[1])\n",
    "\n",
    "\n",
    "predicted_classes = model.predict_classes(X_test)\n",
    "Y_test_classes = np.argmax(Y_test, axis=-1)\n",
    "\n",
    "accPerClass = []\n",
    "for classIdx in range(nb_classes):\n",
    "    idx = (Y_test_classes == classIdx)\n",
    "    \n",
    "    correctPred = np.sum(predicted_classes[idx] == Y_test_classes[idx])\n",
    "    accPerClass.append( correctPred / float(test_sample_per_class[classIdx]))\n",
    "    \n",
    "print(dict(zip(range(nb_classes),accPerClass)), \"\\n\")\n",
    "print(\"Normalized Acc --> \", np.mean(accPerClass))"
   ]
  },
  {
   "cell_type": "markdown",
   "metadata": {},
   "source": [
    "----------------\n",
    "----------------\n",
    "# Task 4 [0.25 pts] - Implement a new modification\n",
    "Implement **one** modification to your network and evaluate it. Some possible alterations are:\n",
    "- Add more convolutional and/or max pooling layers;\n",
    "- Alter the kernel size and number of filters of the conv layers;\n",
    "- Try training with different batch sizes and higher number of epochs;\n",
    "- Try with different activations, besides ReLU and Softmax;\n",
    "- Try optimizing the CNN with a different loss;\n",
    "- Try different learning rates;"
   ]
  },
  {
   "cell_type": "code",
   "execution_count": null,
   "metadata": {},
   "outputs": [],
   "source": []
  }
 ],
 "metadata": {
  "kernelspec": {
   "display_name": "Python [default]",
   "language": "python",
   "name": "python3"
  },
  "language_info": {
   "codemirror_mode": {
    "name": "ipython",
    "version": 3
   },
   "file_extension": ".py",
   "mimetype": "text/x-python",
   "name": "python",
   "nbconvert_exporter": "python",
   "pygments_lexer": "ipython3",
   "version": "3.6.5"
  }
 },
 "nbformat": 4,
 "nbformat_minor": 1
}
