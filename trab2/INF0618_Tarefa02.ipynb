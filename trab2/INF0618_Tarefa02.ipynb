{
 "cells": [
  {
   "cell_type": "markdown",
   "metadata": {},
   "source": [
    "# Tarefa 02\n",
    "Nesta tarefa vocês irão projetar duas arquiteturas de CNN utilizando os conceitos, camadas e técnicas vistas no curso. As redes serão treinadas no dataset CIFAR-10 e depois comparadas. As tarefas são:\n",
    "\n",
    "**1) Definir as arquiteturas; ----> 0.3 pontos** \n",
    "\n",
    "- Quantas [camadas](https://keras.io/layers/core/) ela terá?\n",
    "- Quais as operações utilizadas (convoluções, pooling, fully-connected)?\n",
    "- Quais serão os parâmetros de cada camada (número e tamanho dos filtros convolucionais, stride, tamanho do pooling, funções de ativação)?\n",
    "- Que tipo de [inicialização](https://keras.io/initializers/) de pesos você utilizará?\n",
    "- Haverá dropout? Qual a taxa de dropout? \n",
    "- Haverá [regularização](https://keras.io/regularizers/)? Qual a taxa do regularizador?\n",
    "\n",
    "**2) Definir como será o treino; ----> 0.25 pontos**\n",
    "- Número de épocas e tamanho do batch (deixe igual p/ as duas redes);\n",
    "- [Otimizador](https://keras.io/optimizers/);\n",
    "- [Função de custo](https://keras.io/losses/);\n",
    "\n",
    "**3) Classificar o conjunto de teste e comparar os resultados; ----> 0.25 pontos**\n",
    "- Classificar imagens de teste;\n",
    "- Comparar acurácias;\n",
    "- Plotar loss pelo número de épocas no conjunto de treinamento e validação de cada rede. \n",
    "    \n",
    "**4) Escrever um parágrafo com as suas conclusões; ----> 0.2 pontos**\n",
    "\n",
    "-----\n",
    "\n",
    "## CIFAR-10\n",
    "Este conjunto de dados é composto de 60000 imagens coloridas de dimensões 32x32, divididas em 10 classes (com 6000 imagens por classe), sendo 50000 para treinamento e 10000 para teste. As classes do CIFAR-10 são **aviões, automóveis, pássaros, gatos, alces, cachorros, sapos, cavalos, navios, caminhões.**\n",
    "\n",
    "O código abaixo carrega e transforma os dados de entrada para ficarem prontos para serem treinados/classificados pela sua rede. Os conjuntos de treino, validação e teste estão balanceados, portanto a acurácia já estará normalizada nos métodos do Keras.  "
   ]
  },
  {
   "cell_type": "code",
   "execution_count": 1,
   "metadata": {},
   "outputs": [
    {
     "name": "stderr",
     "output_type": "stream",
     "text": [
      "Using TensorFlow backend.\n"
     ]
    },
    {
     "name": "stdout",
     "output_type": "stream",
     "text": [
      "Training matrix shape (40000, 32, 32, 3)\n",
      "Validation matrix shape (10000, 32, 32, 3)\n",
      "Testing matrix shape (10000, 32, 32, 3)\n"
     ]
    }
   ],
   "source": [
    "#Imports\n",
    "import os\n",
    "import numpy as np\n",
    "from random import seed\n",
    "seed(42)\n",
    "\n",
    "import matplotlib.pyplot as plt\n",
    "plt.rcParams['figure.figsize'] = (15,15) # Make the figures a bit bigger\n",
    "\n",
    "from keras.datasets import cifar10\n",
    "from keras.utils import np_utils\n",
    "#from sklearn.cross_validation import StratifiedShuffleSplit\n",
    "from sklearn.model_selection import StratifiedShuffleSplit\n",
    "\n",
    "\n",
    "#Load data\n",
    "(trainVal_data, trainVal_label), (X_test, y_test) = cifar10.load_data()\n",
    "\n",
    "# Caso alguem tenha problemas com o StratifiedShuffleSplit, tente descomentar essa versao\n",
    "#Split trainVal data into train and val sets (already balanced)\n",
    "# splitIdx = StratifiedShuffleSplit(trainVal_label, 1, test_size=10000, random_state=0)\n",
    "# for train_index, val_index in splitIdx:\n",
    "#     X_train, X_val = trainVal_data[train_index], trainVal_data[val_index]\n",
    "#     y_train, y_val = trainVal_label[train_index], trainVal_label[val_index]\n",
    "    \n",
    "\n",
    "splitIdx = StratifiedShuffleSplit(1, test_size=10000, random_state=0)\n",
    "for train_index, val_index in splitIdx.split(trainVal_data, trainVal_label):\n",
    "    X_train, X_val = trainVal_data[train_index], trainVal_data[val_index]\n",
    "    y_train, y_val = trainVal_label[train_index], trainVal_label[val_index]\n",
    "\n",
    "    \n",
    "#Transform data\n",
    "X_train = X_train.reshape(X_train.shape[0], 32, 32, 3)\n",
    "X_val = X_val.reshape(X_val.shape[0], 32, 32, 3)\n",
    "X_test = X_test.reshape(X_test.shape[0], 32, 32, 3)\n",
    "\n",
    "X_train = X_train.astype('float32')\n",
    "X_val = X_val.astype('float32')\n",
    "X_test = X_test.astype('float32')\n",
    "\n",
    "X_train /= 255\n",
    "X_val /= 255\n",
    "X_test /= 255\n",
    "\n",
    "print(\"Training matrix shape\", X_train.shape)\n",
    "print(\"Validation matrix shape\", X_val.shape)\n",
    "print(\"Testing matrix shape\", X_test.shape)\n",
    "\n",
    "Y_train = np_utils.to_categorical(y_train, 10)\n",
    "Y_val = np_utils.to_categorical(y_val, 10)\n",
    "Y_test = np_utils.to_categorical(y_test, 10)"
   ]
  },
  {
   "cell_type": "markdown",
   "metadata": {},
   "source": [
    "--------\n",
    "--------\n",
    "--------\n",
    "**A tarefa de vocês começa aqui!!!**"
   ]
  },
  {
   "cell_type": "markdown",
   "metadata": {},
   "source": [
    "# Definir as duas arquiteturas - [0.3 pontos]\n",
    "***Não se esqueçam de***:\n",
    "    - Importar as camadas utilizadas e o tipo do modelo (Sequential);\n",
    "    - Passar o input_shape na primeira camada da rede;\n",
    "    - Utilizar ativação `softmax` na última camada densa da rede;"
   ]
  },
  {
   "cell_type": "code",
   "execution_count": 16,
   "metadata": {},
   "outputs": [],
   "source": [
    "#Imports\n",
    "from keras.models import Sequential\n",
    "from keras.layers.core import Dense, Dropout, Flatten\n",
    "from keras.layers import Conv2D, MaxPooling2D\n",
    "from keras import optimizers # other stuff needed ... \n",
    "from keras.optimizers import Adam\n",
    "from keras.callbacks import EarlyStopping"
   ]
  },
  {
   "cell_type": "code",
   "execution_count": 17,
   "metadata": {},
   "outputs": [],
   "source": [
    "# Define 1st architecture\n",
    "modelOne = Sequential()\n",
    "classes = 10\n",
    "modelOne.add(Conv2D(20, kernel_size=(5,5), activation='relu', input_shape=(32,32,3)))\n",
    "modelOne.add(MaxPooling2D(pool_size=(2,2)))\n",
    "modelOne.add(Flatten())\n",
    "modelOne.add(Dropout(0.25))\n",
    "modelOne.add(Dense(classes, activation='softmax',kernel_initializer='glorot_uniform', kernel_regularizer=None))\n"
   ]
  },
  {
   "cell_type": "code",
   "execution_count": 18,
   "metadata": {},
   "outputs": [],
   "source": [
    "# Define 2nd architecture\n",
    "from keras import regularizers\n",
    "modelTwo = Sequential()\n",
    "modelTwo.add(Conv2D(20, kernel_size=(7, 7),activation='relu',input_shape=(32,32,3)))\n",
    "modelTwo.add(MaxPooling2D(pool_size=(2, 2)))\n",
    "modelTwo.add(Flatten())\n",
    "modelTwo.add(Dense(classes, activation='softmax', kernel_initializer='random_normal', kernel_regularizer=regularizers.l2(0.01)))\n"
   ]
  },
  {
   "cell_type": "markdown",
   "metadata": {},
   "source": [
    "# Treinamento - [0.25 pontos]\n",
    "***Não se esqueçam de***:\n",
    "    - Escolher otimizador e loss;\n",
    "    - Compilar o modelo;\n",
    "    - Definir número de épocas, tamanho do batch (utilizar o mesmo para ambas as redes);\n",
    "    - Passar o conjunto de validação em `validation_data`;"
   ]
  },
  {
   "cell_type": "code",
   "execution_count": 19,
   "metadata": {},
   "outputs": [
    {
     "name": "stdout",
     "output_type": "stream",
     "text": [
      "Train on 40000 samples, validate on 10000 samples\n",
      "Epoch 1/100\n",
      "40000/40000 [==============================] - 42s 1ms/step - loss: 2.1316 - acc: 0.2190 - val_loss: 1.9575 - val_acc: 0.3227\n",
      "Epoch 2/100\n",
      "40000/40000 [==============================] - 43s 1ms/step - loss: 1.9183 - acc: 0.3211 - val_loss: 1.8402 - val_acc: 0.3711\n",
      "Epoch 3/100\n",
      "40000/40000 [==============================] - 40s 992us/step - loss: 1.8153 - acc: 0.3646 - val_loss: 1.7519 - val_acc: 0.4019\n",
      "Epoch 4/100\n",
      "40000/40000 [==============================] - 39s 973us/step - loss: 1.7329 - acc: 0.3938 - val_loss: 1.6964 - val_acc: 0.4067\n",
      "Epoch 5/100\n",
      "40000/40000 [==============================] - 39s 979us/step - loss: 1.6674 - acc: 0.4157 - val_loss: 1.6323 - val_acc: 0.4395\n",
      "Epoch 6/100\n",
      "40000/40000 [==============================] - 39s 973us/step - loss: 1.6094 - acc: 0.4352 - val_loss: 1.5708 - val_acc: 0.4526\n",
      "Epoch 7/100\n",
      "40000/40000 [==============================] - 40s 995us/step - loss: 1.5623 - acc: 0.4534 - val_loss: 1.5452 - val_acc: 0.4659\n",
      "Epoch 8/100\n",
      "40000/40000 [==============================] - 41s 1ms/step - loss: 1.5220 - acc: 0.4658 - val_loss: 1.5119 - val_acc: 0.4694\n",
      "Epoch 9/100\n",
      "40000/40000 [==============================] - 46s 1ms/step - loss: 1.4893 - acc: 0.4760 - val_loss: 1.4680 - val_acc: 0.4867\n",
      "Epoch 10/100\n",
      "40000/40000 [==============================] - 42s 1ms/step - loss: 1.4625 - acc: 0.4850 - val_loss: 1.4402 - val_acc: 0.4950\n",
      "Epoch 11/100\n",
      "40000/40000 [==============================] - 47s 1ms/step - loss: 1.4404 - acc: 0.4943 - val_loss: 1.4402 - val_acc: 0.4957\n",
      "Epoch 12/100\n",
      "40000/40000 [==============================] - 45s 1ms/step - loss: 1.4221 - acc: 0.5014 - val_loss: 1.4078 - val_acc: 0.5089\n",
      "Epoch 13/100\n",
      "40000/40000 [==============================] - 43s 1ms/step - loss: 1.4028 - acc: 0.5102 - val_loss: 1.3938 - val_acc: 0.5129\n",
      "Epoch 14/100\n",
      "40000/40000 [==============================] - 42s 1ms/step - loss: 1.3891 - acc: 0.5127 - val_loss: 1.3835 - val_acc: 0.5196\n",
      "Epoch 15/100\n",
      "40000/40000 [==============================] - 42s 1ms/step - loss: 1.3768 - acc: 0.5172 - val_loss: 1.3798 - val_acc: 0.5207\n",
      "Epoch 16/100\n",
      "40000/40000 [==============================] - 42s 1ms/step - loss: 1.3620 - acc: 0.5224 - val_loss: 1.3732 - val_acc: 0.5210\n",
      "Epoch 17/100\n",
      "40000/40000 [==============================] - 44s 1ms/step - loss: 1.3531 - acc: 0.5265 - val_loss: 1.3806 - val_acc: 0.5196\n",
      "Epoch 18/100\n",
      "40000/40000 [==============================] - 48s 1ms/step - loss: 1.3438 - acc: 0.5296 - val_loss: 1.3412 - val_acc: 0.5344\n",
      "Epoch 19/100\n",
      "40000/40000 [==============================] - 49s 1ms/step - loss: 1.3350 - acc: 0.5333 - val_loss: 1.3795 - val_acc: 0.5211\n",
      "Epoch 20/100\n",
      "40000/40000 [==============================] - 44s 1ms/step - loss: 1.3280 - acc: 0.5348 - val_loss: 1.3242 - val_acc: 0.5408\n",
      "Epoch 21/100\n",
      "40000/40000 [==============================] - 44s 1ms/step - loss: 1.3181 - acc: 0.5389 - val_loss: 1.3356 - val_acc: 0.5372\n",
      "Epoch 22/100\n",
      "40000/40000 [==============================] - 45s 1ms/step - loss: 1.3083 - acc: 0.5423 - val_loss: 1.3126 - val_acc: 0.5412\n",
      "Epoch 23/100\n",
      "40000/40000 [==============================] - 46s 1ms/step - loss: 1.2990 - acc: 0.5467 - val_loss: 1.3057 - val_acc: 0.5435\n"
     ]
    }
   ],
   "source": [
    "historyList = []\n",
    "\n",
    "earlystop = EarlyStopping(monitor='val_acc', #metric to monitor\n",
    "                          min_delta=0.01,  #difference considered as improvement\n",
    "                          patience=5) #number of epochs with no improvement after which training will be stopped \n",
    "callbacks_list = [earlystop]\n",
    "\n",
    "#Compile first model\n",
    "sgd = optimizers.SGD(lr=0.01) #lr = learning rate\n",
    "modelOne.compile(loss='categorical_crossentropy', optimizer=sgd, metrics=['accuracy'])\n",
    "\n",
    "#Train first CNN\n",
    "historyList.append(modelOne.fit(X_train, Y_train,\n",
    "          batch_size=128, epochs=100, verbose=1,\n",
    "          validation_data=(X_val, Y_val), callbacks=callbacks_list))"
   ]
  },
  {
   "cell_type": "code",
   "execution_count": 20,
   "metadata": {},
   "outputs": [
    {
     "name": "stdout",
     "output_type": "stream",
     "text": [
      "Train on 40000 samples, validate on 10000 samples\n",
      "Epoch 1/10\n",
      "40000/40000 [==============================] - 58s 1ms/step - loss: 2.0808 - acc: 0.3720 - val_loss: 1.7328 - val_acc: 0.4490\n",
      "Epoch 2/10\n",
      "40000/40000 [==============================] - 57s 1ms/step - loss: 1.6430 - acc: 0.4739 - val_loss: 1.5968 - val_acc: 0.4795\n",
      "Epoch 3/10\n",
      "40000/40000 [==============================] - 59s 1ms/step - loss: 1.5534 - acc: 0.4966 - val_loss: 1.5184 - val_acc: 0.4995\n",
      "Epoch 4/10\n",
      "40000/40000 [==============================] - 62s 2ms/step - loss: 1.5112 - acc: 0.5085 - val_loss: 1.4938 - val_acc: 0.5233\n",
      "Epoch 5/10\n",
      "40000/40000 [==============================] - 65s 2ms/step - loss: 1.4774 - acc: 0.5211 - val_loss: 1.4920 - val_acc: 0.5125\n",
      "Epoch 6/10\n",
      "40000/40000 [==============================] - 58s 1ms/step - loss: 1.4536 - acc: 0.5293 - val_loss: 1.4403 - val_acc: 0.5339\n",
      "Epoch 7/10\n",
      "40000/40000 [==============================] - 62s 2ms/step - loss: 1.4335 - acc: 0.5368 - val_loss: 1.4360 - val_acc: 0.5406\n",
      "Epoch 8/10\n",
      "40000/40000 [==============================] - 54s 1ms/step - loss: 1.4166 - acc: 0.5416 - val_loss: 1.4609 - val_acc: 0.5201\n",
      "Epoch 9/10\n",
      "40000/40000 [==============================] - 53s 1ms/step - loss: 1.4054 - acc: 0.5468 - val_loss: 1.4303 - val_acc: 0.5402\n",
      "Epoch 10/10\n",
      "40000/40000 [==============================] - 53s 1ms/step - loss: 1.3874 - acc: 0.5561 - val_loss: 1.4029 - val_acc: 0.5472\n"
     ]
    }
   ],
   "source": [
    "earlystop = EarlyStopping(monitor='val_acc', #metric to monitor\n",
    "                          min_delta=0.01,  #difference considered as improvement\n",
    "                          patience=5) #number of epochs with no improvement after which training will be stopped \n",
    "callbacks_list = [earlystop]\n",
    "\n",
    "#Compile second model\n",
    "modelTwo.compile(loss='categorical_crossentropy', optimizer='adam', metrics=['accuracy'])\n",
    "\n",
    "#Train second CNN\n",
    "historyList.append(modelTwo.fit(X_train, Y_train, \n",
    "             batch_size=128, epochs=10,verbose=1,\n",
    "             validation_data=(X_val, Y_val), callbacks=callbacks_list))"
   ]
  },
  {
   "cell_type": "markdown",
   "metadata": {},
   "source": [
    "# Resultados no conjunto de teste [0.25 pontos]\n",
    "***Não se esqueçam de***:\n",
    "    - Classificar as imagens do conjunto de teste utilizando cada rede;\n",
    "    - Computar acurácia para cada rede;\n",
    "    - Comparar ambas as acurácias;\n",
    "    - Plotar loss pelo número de épocas no conjunto de treinamento e validação de cada rede. "
   ]
  },
  {
   "cell_type": "code",
   "execution_count": 21,
   "metadata": {},
   "outputs": [
    {
     "name": "stdout",
     "output_type": "stream",
     "text": [
      "10000/10000 [==============================] - 4s 438us/step\n",
      "Test loss: 1.3030174592971802\n",
      "Test accuracy (NOT NORMALIZED): 0.538\n",
      "10000/10000 [==============================] - 5s 544us/step\n",
      "Test loss: 1.4006140083312988\n",
      "Test accuracy (NOT NORMALIZED): 0.5537\n"
     ]
    }
   ],
   "source": [
    "# Classify test set\n",
    "score = modelOne.evaluate(X_test, Y_test, verbose=1)\n",
    "print('Test loss:', score[0])\n",
    "print('Test accuracy (NOT NORMALIZED):', score[1])\n",
    "\n",
    "score = modelTwo.evaluate(X_test, Y_test, verbose=1)\n",
    "print('Test loss:', score[0])\n",
    "print('Test accuracy (NOT NORMALIZED):', score[1])"
   ]
  },
  {
   "cell_type": "code",
   "execution_count": 22,
   "metadata": {},
   "outputs": [
    {
     "data": {
      "image/png": "[encoded data removed]",
      "text/plain": [
       "<matplotlib.figure.Figure at 0x7fb5f80f29e8>"
      ]
     },
     "metadata": {
      "needs_background": "light"
     },
     "output_type": "display_data"
    }
   ],
   "source": [
    "def plot_loss(history, legend, plotSet=\"both\"):\n",
    "    linestyles = ['-', '--']\n",
    "\n",
    "    #Plot Loss\n",
    "    plt.subplot(2, 1, 1)\n",
    "\n",
    "    for idx,hist in enumerate(historyList):\n",
    "        if plotSet in [\"train\", \"both\"]:\n",
    "            plt.plot(hist.history['loss'], linestyle=linestyles[idx%len(linestyles)])\n",
    "        if 'val_loss' in hist.history.keys() and plotSet in [\"test\", \"both\"]:\n",
    "            plt.plot(hist.history['val_loss'], linestyle=linestyles[idx%len(linestyles)])\n",
    "\n",
    "    plt.ylabel('Loss')\n",
    "    plt.xlabel('Epoch')\n",
    "    plt.title(\"Loss\")    \n",
    "    plt.legend(legend, loc='best')    \n",
    "\n",
    "    plt.show()\n",
    "    \n",
    "legend = [\"[TRAIN] modelOne\", \"[TEST] modelOne\", \"[TRAIN] modelTwo\", \"[TEST] modelTwo\"]\n",
    "plot_loss(historyList, legend)"
   ]
  },
  {
   "cell_type": "markdown",
   "metadata": {},
   "source": [
    "# Conclusões [0.2 pontos]\n",
    "Escrevam um parágrafo com as conclusões que vocês tiraram na tarefa. Comentem as diferenças entre as duas arquiteturas e em seus treinamentos, apontando a motivação pelas decisões tomadas. Se o resultado ficou melhor/pior do que o que você esperava, o que você acha que pode ter acontecido?"
   ]
  },
  {
   "cell_type": "code",
   "execution_count": 10,
   "metadata": {},
   "outputs": [],
   "source": [
    "'''\n",
    "Para criar os modelos, optamos por seguir o modelo proposto pelo professor durante a Aula 3, fazendo modificações\n",
    "pontuais para testar diferentes opções da biblioteca Keras.\n",
    "\n",
    "Entre os dois modelos criados, fizemos também mudanças pontuais. Alteramos o tamanho do kernel de (5,5) para (7,7),\n",
    "removemos o dropout do segundo modelo e utilizamos dois otimizadores diferentes, sgd e adam.\n",
    "\n",
    "Também utilizamos a callback de Early Stopping em ambos os modelos para determinar a quantidade de época\n",
    "necessárias.\n",
    "\n",
    "Com essas arquiteturas, pudemos ver que o primeiro modelo obteve resultado ligeiramente melhor, tanto em perda\n",
    "quanto em acurácia. A remoção da camada de dropout e o otimizador escolhido impactaram nos resultados.\n",
    "'''"
   ]
  }
 ],
 "metadata": {
  "kernelspec": {
   "display_name": "Python 3",
   "language": "python",
   "name": "python3"
  },
  "language_info": {
   "codemirror_mode": {
    "name": "ipython",
    "version": 3
   },
   "file_extension": ".py",
   "mimetype": "text/x-python",
   "name": "python",
   "nbconvert_exporter": "python",
   "pygments_lexer": "ipython3",
   "version": "3.5.2"
  }
 },
 "nbformat": 4,
 "nbformat_minor": 1
}
