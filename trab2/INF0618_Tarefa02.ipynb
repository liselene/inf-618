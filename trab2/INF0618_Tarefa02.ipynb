{
 "cells": [
  {
   "cell_type": "markdown",
   "metadata": {},
   "source": [
    "# Tarefa 02\n",
    "Nesta tarefa vocês irão projetar duas arquiteturas de CNN utilizando os conceitos, camadas e técnicas vistas no curso. As redes serão treinadas no dataset CIFAR-10 e depois comparadas. As tarefas são:\n",
    "\n",
    "**1) Definir as arquiteturas; ----> 0.3 pontos** \n",
    "\n",
    "- Quantas [camadas](https://keras.io/layers/core/) ela terá?\n",
    "- Quais as operações utilizadas (convoluções, pooling, fully-connected)?\n",
    "- Quais serão os parâmetros de cada camada (número e tamanho dos filtros convolucionais, stride, tamanho do pooling, funções de ativação)?\n",
    "- Que tipo de [inicialização](https://keras.io/initializers/) de pesos você utilizará?\n",
    "- Haverá dropout? Qual a taxa de dropout? \n",
    "- Haverá [regularização](https://keras.io/regularizers/)? Qual a taxa do regularizador?\n",
    "\n",
    "**2) Definir como será o treino; ----> 0.25 pontos**\n",
    "- Número de épocas e tamanho do batch (deixe igual p/ as duas redes);\n",
    "- [Otimizador](https://keras.io/optimizers/);\n",
    "- [Função de custo](https://keras.io/losses/);\n",
    "\n",
    "**3) Classificar o conjunto de teste e comparar os resultados; ----> 0.25 pontos**\n",
    "- Classificar imagens de teste;\n",
    "- Comparar acurácias;\n",
    "- Plotar loss pelo número de épocas no conjunto de treinamento e validação de cada rede. \n",
    "    \n",
    "**4) Escrever um parágrafo com as suas conclusões; ----> 0.2 pontos**\n",
    "\n",
    "-----\n",
    "\n",
    "## CIFAR-10\n",
    "Este conjunto de dados é composto de 60000 imagens coloridas de dimensões 32x32, divididas em 10 classes (com 6000 imagens por classe), sendo 50000 para treinamento e 10000 para teste. As classes do CIFAR-10 são **aviões, automóveis, pássaros, gatos, alces, cachorros, sapos, cavalos, navios, caminhões.**\n",
    "\n",
    "O código abaixo carrega e transforma os dados de entrada para ficarem prontos para serem treinados/classificados pela sua rede. Os conjuntos de treino, validação e teste estão balanceados, portanto a acurácia já estará normalizada nos métodos do Keras.  "
   ]
  },
  {
   "cell_type": "code",
   "execution_count": 79,
   "metadata": {},
   "outputs": [
    {
     "name": "stdout",
     "output_type": "stream",
     "text": [
      "Training matrix shape (40000, 32, 32, 3)\n",
      "Validation matrix shape (10000, 32, 32, 3)\n",
      "Testing matrix shape (10000, 32, 32, 3)\n"
     ]
    }
   ],
   "source": [
    "#Imports\n",
    "import os\n",
    "import numpy as np\n",
    "from random import seed\n",
    "seed(42)\n",
    "\n",
    "import matplotlib.pyplot as plt\n",
    "plt.rcParams['figure.figsize'] = (15,15) # Make the figures a bit bigger\n",
    "\n",
    "from keras.datasets import cifar10\n",
    "from keras.utils import np_utils\n",
    "#from sklearn.cross_validation import StratifiedShuffleSplit\n",
    "from sklearn.model_selection import StratifiedShuffleSplit\n",
    "\n",
    "\n",
    "#Load data\n",
    "(trainVal_data, trainVal_label), (X_test, y_test) = cifar10.load_data()\n",
    "\n",
    "# Caso alguem tenha problemas com o StratifiedShuffleSplit, tente descomentar essa versao\n",
    "#Split trainVal data into train and val sets (already balanced)\n",
    "# splitIdx = StratifiedShuffleSplit(trainVal_label, 1, test_size=10000, random_state=0)\n",
    "# for train_index, val_index in splitIdx:\n",
    "#     X_train, X_val = trainVal_data[train_index], trainVal_data[val_index]\n",
    "#     y_train, y_val = trainVal_label[train_index], trainVal_label[val_index]\n",
    "    \n",
    "\n",
    "splitIdx = StratifiedShuffleSplit(1, test_size=10000, random_state=0)\n",
    "for train_index, val_index in splitIdx.split(trainVal_data, trainVal_label):\n",
    "    X_train, X_val = trainVal_data[train_index], trainVal_data[val_index]\n",
    "    y_train, y_val = trainVal_label[train_index], trainVal_label[val_index]\n",
    "\n",
    "    \n",
    "#Transform data\n",
    "X_train = X_train.reshape(X_train.shape[0], 32, 32, 3)\n",
    "X_val = X_val.reshape(X_val.shape[0], 32, 32, 3)\n",
    "X_test = X_test.reshape(X_test.shape[0], 32, 32, 3)\n",
    "\n",
    "X_train = X_train.astype('float32')\n",
    "X_val = X_val.astype('float32')\n",
    "X_test = X_test.astype('float32')\n",
    "\n",
    "X_train /= 255\n",
    "X_val /= 255\n",
    "X_test /= 255\n",
    "\n",
    "print(\"Training matrix shape\", X_train.shape)\n",
    "print(\"Validation matrix shape\", X_val.shape)\n",
    "print(\"Testing matrix shape\", X_test.shape)\n",
    "\n",
    "Y_train = np_utils.to_categorical(y_train, 10)\n",
    "Y_val = np_utils.to_categorical(y_val, 10)\n",
    "Y_test = np_utils.to_categorical(y_test, 10)"
   ]
  },
  {
   "cell_type": "markdown",
   "metadata": {},
   "source": [
    "--------\n",
    "--------\n",
    "--------\n",
    "**A tarefa de vocês começa aqui!!!**"
   ]
  },
  {
   "cell_type": "markdown",
   "metadata": {},
   "source": [
    "# Definir as duas arquiteturas - [0.3 pontos]\n",
    "***Não se esqueçam de***:\n",
    "    - Importar as camadas utilizadas e o tipo do modelo (Sequential);\n",
    "    - Passar o input_shape na primeira camada da rede;\n",
    "    - Utilizar ativação `softmax` na última camada densa da rede;"
   ]
  },
  {
   "cell_type": "code",
   "execution_count": 80,
   "metadata": {},
   "outputs": [],
   "source": [
    "#Imports\n",
    "from keras.models import Sequential\n",
    "from keras.layers.core import Dense, Dropout, Flatten\n",
    "from keras.layers import Conv2D, MaxPooling2D\n",
    "from keras import optimizers # other stuff needed ... \n",
    "from keras.optimizers import Adam"
   ]
  },
  {
   "cell_type": "code",
   "execution_count": 83,
   "metadata": {},
   "outputs": [],
   "source": [
    "# Define 1st architecture\n",
    "modelOne = Sequential()\n",
    "classes = 10\n",
    "modelOne.add(Conv2D(20, kernel_size=(5,5), activation='relu', input_shape=(32,32,3)))\n",
    "modelOne.add(MaxPooling2D(pool_size=(2,2)))\n",
    "modelOne.add(Flatten())\n",
    "modelOne.add(Dropout(0.25))\n",
    "modelOne.add(Dense(classes, activation='softmax',kernel_initializer='glorot_uniform', kernel_regularizer=None))\n"
   ]
  },
  {
   "cell_type": "code",
   "execution_count": 84,
   "metadata": {},
   "outputs": [
    {
     "ename": "NameError",
     "evalue": "name 'regularizers' is not defined",
     "output_type": "error",
     "traceback": [
      "\u001b[0;31m---------------------------------------------------------------------------\u001b[0m",
      "\u001b[0;31mNameError\u001b[0m                                 Traceback (most recent call last)",
      "\u001b[0;32m<ipython-input-84-6687ee5d4d04>\u001b[0m in \u001b[0;36m<module>\u001b[0;34m\u001b[0m\n\u001b[1;32m      4\u001b[0m \u001b[0mmodelTwo\u001b[0m\u001b[0;34m.\u001b[0m\u001b[0madd\u001b[0m\u001b[0;34m(\u001b[0m\u001b[0mMaxPooling2D\u001b[0m\u001b[0;34m(\u001b[0m\u001b[0mpool_size\u001b[0m\u001b[0;34m=\u001b[0m\u001b[0;34m(\u001b[0m\u001b[0;36m2\u001b[0m\u001b[0;34m,\u001b[0m \u001b[0;36m2\u001b[0m\u001b[0;34m)\u001b[0m\u001b[0;34m)\u001b[0m\u001b[0;34m)\u001b[0m\u001b[0;34m\u001b[0m\u001b[0m\n\u001b[1;32m      5\u001b[0m \u001b[0mmodelTwo\u001b[0m\u001b[0;34m.\u001b[0m\u001b[0madd\u001b[0m\u001b[0;34m(\u001b[0m\u001b[0mFlatten\u001b[0m\u001b[0;34m(\u001b[0m\u001b[0;34m)\u001b[0m\u001b[0;34m)\u001b[0m\u001b[0;34m\u001b[0m\u001b[0m\n\u001b[0;32m----> 6\u001b[0;31m \u001b[0mmodelTwo\u001b[0m\u001b[0;34m.\u001b[0m\u001b[0madd\u001b[0m\u001b[0;34m(\u001b[0m\u001b[0mDense\u001b[0m\u001b[0;34m(\u001b[0m\u001b[0;36m10\u001b[0m\u001b[0;34m,\u001b[0m \u001b[0mactivation\u001b[0m\u001b[0;34m=\u001b[0m\u001b[0;34m'softmax'\u001b[0m\u001b[0;34m,\u001b[0m \u001b[0mkernel_initializer\u001b[0m\u001b[0;34m=\u001b[0m\u001b[0;34m'random_normal'\u001b[0m\u001b[0;34m,\u001b[0m \u001b[0mkernel_regularizer\u001b[0m\u001b[0;34m=\u001b[0m\u001b[0mregularizers\u001b[0m\u001b[0;34m.\u001b[0m\u001b[0ml2\u001b[0m\u001b[0;34m(\u001b[0m\u001b[0;36m0.01\u001b[0m\u001b[0;34m)\u001b[0m\u001b[0;34m)\u001b[0m\u001b[0;34m)\u001b[0m\u001b[0;34m\u001b[0m\u001b[0m\n\u001b[0m",
      "\u001b[0;31mNameError\u001b[0m: name 'regularizers' is not defined"
     ]
    }
   ],
   "source": [
    "# Define 2nd architecture\n",
    "modelTwo = Sequential()\n",
    "modelTwo.add(Conv2D(20, kernel_size=(2, 5),activation='sigmoid',input_shape=(32,32,3)))\n",
    "modelTwo.add(MaxPooling2D(pool_size=(2, 2)))\n",
    "modelTwo.add(Flatten())\n",
    "modelTwo.add(Dense(10, activation='softmax', kernel_initializer='random_normal', kernel_regularizer=regularizers.l2(0.01)))\n"
   ]
  },
  {
   "cell_type": "markdown",
   "metadata": {},
   "source": [
    "# Treinamento - [0.25 pontos]\n",
    "***Não se esqueçam de***:\n",
    "    - Escolher otimizador e loss;\n",
    "    - Compilar o modelo;\n",
    "    - Definir número de épocas, tamanho do batch (utilizar o mesmo para ambas as redes);\n",
    "    - Passar o conjunto de validação em `validation_data`;"
   ]
  },
  {
   "cell_type": "code",
   "execution_count": 70,
   "metadata": {},
   "outputs": [
    {
     "name": "stdout",
     "output_type": "stream",
     "text": [
      "Train on 40000 samples, validate on 10000 samples\n",
      "Epoch 1/10\n",
      "40000/40000 [==============================] - 33s 836us/step - loss: 2.1470 - acc: 0.2086 - val_loss: 1.9689 - val_acc: 0.3113\n",
      "Epoch 2/10\n",
      "40000/40000 [==============================] - 38s 945us/step - loss: 1.9244 - acc: 0.3143 - val_loss: 1.8393 - val_acc: 0.3635\n",
      "Epoch 3/10\n",
      "40000/40000 [==============================] - 39s 968us/step - loss: 1.8104 - acc: 0.3613 - val_loss: 1.7415 - val_acc: 0.3925\n",
      "Epoch 4/10\n",
      "40000/40000 [==============================] - 39s 982us/step - loss: 1.7234 - acc: 0.3932 - val_loss: 1.6790 - val_acc: 0.4121\n",
      "Epoch 5/10\n",
      "40000/40000 [==============================] - 39s 971us/step - loss: 1.6619 - acc: 0.4156 - val_loss: 1.6155 - val_acc: 0.4383\n",
      "Epoch 6/10\n",
      "40000/40000 [==============================] - 38s 952us/step - loss: 1.6125 - acc: 0.4304 - val_loss: 1.5688 - val_acc: 0.4548\n",
      "Epoch 7/10\n",
      "40000/40000 [==============================] - 39s 984us/step - loss: 1.5719 - acc: 0.4462 - val_loss: 1.5677 - val_acc: 0.4570\n",
      "Epoch 8/10\n",
      "40000/40000 [==============================] - 38s 942us/step - loss: 1.5307 - acc: 0.4609 - val_loss: 1.4977 - val_acc: 0.4733\n",
      "Epoch 9/10\n",
      "40000/40000 [==============================] - 40s 995us/step - loss: 1.4987 - acc: 0.4706 - val_loss: 1.4825 - val_acc: 0.4827\n",
      "Epoch 10/10\n",
      "40000/40000 [==============================] - 40s 988us/step - loss: 1.4675 - acc: 0.4820 - val_loss: 1.4395 - val_acc: 0.4964\n"
     ]
    }
   ],
   "source": [
    "historyList = []\n",
    "\n",
    "#Compile first model\n",
    "#sgd = optimizers.SGD(lr=0.01) #lr = learning rate\n",
    "modelOne.compile(loss='categorical_crossentropy', optimizer='sgd', metrics=['accuracy'])\n",
    "\n",
    "#Train first CNN\n",
    "historyList.append(modelOne.fit(X_train, Y_train,\n",
    "          batch_size=128, epochs=10, verbose=0,\n",
    "          validation_data=(X_val, Y_val)))"
   ]
  },
  {
   "cell_type": "code",
   "execution_count": 71,
   "metadata": {},
   "outputs": [
    {
     "name": "stdout",
     "output_type": "stream",
     "text": [
      "Train on 40000 samples, validate on 10000 samples\n",
      "Epoch 1/10\n",
      "40000/40000 [==============================] - 25s 615us/step - loss: 2.3023 - acc: 0.1312 - val_loss: 2.2681 - val_acc: 0.1378\n",
      "Epoch 2/10\n",
      "40000/40000 [==============================] - 24s 610us/step - loss: 2.1825 - acc: 0.1923 - val_loss: 2.1705 - val_acc: 0.2285\n",
      "Epoch 3/10\n",
      "40000/40000 [==============================] - 25s 617us/step - loss: 2.1048 - acc: 0.2318 - val_loss: 2.1651 - val_acc: 0.2106\n",
      "Epoch 4/10\n",
      "40000/40000 [==============================] - 23s 580us/step - loss: 2.0526 - acc: 0.2572 - val_loss: 2.0609 - val_acc: 0.2325\n",
      "Epoch 5/10\n",
      "40000/40000 [==============================] - 24s 596us/step - loss: 2.0090 - acc: 0.2772 - val_loss: 2.0690 - val_acc: 0.2453\n",
      "Epoch 6/10\n",
      "40000/40000 [==============================] - 25s 634us/step - loss: 1.9760 - acc: 0.2919 - val_loss: 1.9758 - val_acc: 0.2956\n",
      "Epoch 7/10\n",
      "40000/40000 [==============================] - 26s 644us/step - loss: 1.9504 - acc: 0.3027 - val_loss: 1.9677 - val_acc: 0.3089\n",
      "Epoch 8/10\n",
      "40000/40000 [==============================] - 27s 686us/step - loss: 1.9273 - acc: 0.3124 - val_loss: 1.9528 - val_acc: 0.3122\n",
      "Epoch 9/10\n",
      "40000/40000 [==============================] - 24s 599us/step - loss: 1.9076 - acc: 0.3228 - val_loss: 1.9293 - val_acc: 0.3008\n",
      "Epoch 10/10\n",
      "40000/40000 [==============================] - 23s 583us/step - loss: 1.8905 - acc: 0.3294 - val_loss: 1.9005 - val_acc: 0.3286\n"
     ]
    }
   ],
   "source": [
    "#Compile second model\n",
    "modelTwo.compile(loss='categorical_crossentropy', optimizer='adam', metrics=['accuracy'])\n",
    "\n",
    "#Train second CNN\n",
    "historyList.append(modelTwo.fit(X_train, Y_train, \n",
    "             batch_size=128, epochs=10,verbose=0,\n",
    "             validation_data=(X_val, Y_val)))"
   ]
  },
  {
   "cell_type": "markdown",
   "metadata": {},
   "source": [
    "# Resultados no conjunto de teste [0.25 pontos]\n",
    "***Não se esqueçam de***:\n",
    "    - Classificar as imagens do conjunto de teste utilizando cada rede;\n",
    "    - Computar acurácia para cada rede;\n",
    "    - Comparar ambas as acurácias;\n",
    "    - Plotar loss pelo número de épocas no conjunto de treinamento e validação de cada rede. "
   ]
  },
  {
   "cell_type": "code",
   "execution_count": 72,
   "metadata": {},
   "outputs": [
    {
     "name": "stdout",
     "output_type": "stream",
     "text": [
      "10000/10000 [==============================] - 4s 448us/step\n",
      "Test loss: 1.432932286453247\n",
      "Test accuracy (NOT NORMALIZED): 0.4982\n",
      "10000/10000 [==============================] - 3s 259us/step\n",
      "Test loss: 1.8929760646820069\n",
      "Test accuracy (NOT NORMALIZED): 0.3289\n"
     ]
    }
   ],
   "source": [
    "# Classify test set\n",
    "score = modelOne.evaluate(X_test, Y_test, verbose=1)\n",
    "print('Test loss:', score[0])\n",
    "print('Test accuracy (NOT NORMALIZED):', score[1])\n",
    "\n",
    "score = modelTwo.evaluate(X_test, Y_test, verbose=1)\n",
    "print('Test loss:', score[0])\n",
    "print('Test accuracy (NOT NORMALIZED):', score[1])"
   ]
  },
  {
   "cell_type": "code",
   "execution_count": 78,
   "metadata": {},
   "outputs": [
    {
     "data": {
      "image/png": "[encoded data removed]",
      "text/plain": [
       "<Figure size 1080x1080 with 1 Axes>"
      ]
     },
     "metadata": {
      "needs_background": "light"
     },
     "output_type": "display_data"
    }
   ],
   "source": [
    "def plot_loss_accuracy(history, legend, plotSet=\"both\"):\n",
    "    linestyles = ['-', '--']\n",
    "\n",
    "    #Plot Loss\n",
    "    plt.subplot(2, 1, 1)\n",
    "\n",
    "    for idx,hist in enumerate(historyList):\n",
    "        if plotSet in [\"train\", \"both\"]:\n",
    "            plt.plot(hist.history['loss'], linestyle=linestyles[idx%len(linestyles)])\n",
    "        if 'val_loss' in hist.history.keys() and plotSet in [\"test\", \"both\"]:\n",
    "            plt.plot(hist.history['val_loss'], linestyle=linestyles[idx%len(linestyles)])\n",
    "\n",
    "    plt.ylabel('Loss')\n",
    "    plt.xlabel('Epoch')\n",
    "    plt.title(\"Loss\")    \n",
    "    plt.legend(legend, loc='best')    \n",
    "\n",
    "    plt.show()\n",
    "    \n",
    "legend = [\"modelOne\", \"modelTwo\"]\n",
    "plot_loss_accuracy(historyList, legend)"
   ]
  },
  {
   "cell_type": "markdown",
   "metadata": {},
   "source": [
    "# Conclusões [0.2 pontos]\n",
    "Escrevam um parágrafo com as conclusões que vocês tiraram na tarefa. Comentem as diferenças entre as duas arquiteturas e em seus treinamentos, apontando a motivação pelas decisões tomadas. Se o resultado ficou melhor/pior do que o que você esperava, o que você acha que pode ter acontecido?"
   ]
  },
  {
   "cell_type": "code",
   "execution_count": 10,
   "metadata": {},
   "outputs": [],
   "source": [
    "# Write your paragraph here!"
   ]
  }
 ],
 "metadata": {
  "kernelspec": {
   "display_name": "Python [default]",
   "language": "python",
   "name": "python3"
  },
  "language_info": {
   "codemirror_mode": {
    "name": "ipython",
    "version": 3
   },
   "file_extension": ".py",
   "mimetype": "text/x-python",
   "name": "python",
   "nbconvert_exporter": "python",
   "pygments_lexer": "ipython3",
   "version": "3.6.5"
  }
 },
 "nbformat": 4,
 "nbformat_minor": 1
}
