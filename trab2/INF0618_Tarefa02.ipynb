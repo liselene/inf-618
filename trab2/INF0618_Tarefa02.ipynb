{
 "cells": [
  {
   "cell_type": "markdown",
   "metadata": {},
   "source": [
    "# Tarefa 02\n",
    "\n",
    "## Alunos: Liselene Borges e Marcos Scarpim\n",
    "\n",
    "Nesta tarefa vocês irão projetar duas arquiteturas de CNN utilizando os conceitos, camadas e técnicas vistas no curso. As redes serão treinadas no dataset CIFAR-10 e depois comparadas. As tarefas são:\n",
    "\n",
    "**1) Definir as arquiteturas; ----> 0.3 pontos** \n",
    "\n",
    "- Quantas [camadas](https://keras.io/layers/core/) ela terá?\n",
    "- Quais as operações utilizadas (convoluções, pooling, fully-connected)?\n",
    "- Quais serão os parâmetros de cada camada (número e tamanho dos filtros convolucionais, stride, tamanho do pooling, funções de ativação)?\n",
    "- Que tipo de [inicialização](https://keras.io/initializers/) de pesos você utilizará?\n",
    "- Haverá dropout? Qual a taxa de dropout? \n",
    "- Haverá [regularização](https://keras.io/regularizers/)? Qual a taxa do regularizador?\n",
    "\n",
    "**2) Definir como será o treino; ----> 0.25 pontos**\n",
    "- Número de épocas e tamanho do batch (deixe igual p/ as duas redes);\n",
    "- [Otimizador](https://keras.io/optimizers/);\n",
    "- [Função de custo](https://keras.io/losses/);\n",
    "\n",
    "**3) Classificar o conjunto de teste e comparar os resultados; ----> 0.25 pontos**\n",
    "- Classificar imagens de teste;\n",
    "- Comparar acurácias;\n",
    "- Plotar loss pelo número de épocas no conjunto de treinamento e validação de cada rede. \n",
    "    \n",
    "**4) Escrever um parágrafo com as suas conclusões; ----> 0.2 pontos**\n",
    "\n",
    "-----\n",
    "\n",
    "## CIFAR-10\n",
    "Este conjunto de dados é composto de 60000 imagens coloridas de dimensões 32x32, divididas em 10 classes (com 6000 imagens por classe), sendo 50000 para treinamento e 10000 para teste. As classes do CIFAR-10 são **aviões, automóveis, pássaros, gatos, alces, cachorros, sapos, cavalos, navios, caminhões.**\n",
    "\n",
    "O código abaixo carrega e transforma os dados de entrada para ficarem prontos para serem treinados/classificados pela sua rede. Os conjuntos de treino, validação e teste estão balanceados, portanto a acurácia já estará normalizada nos métodos do Keras.  "
   ]
  },
  {
   "cell_type": "code",
   "execution_count": 33,
   "metadata": {},
   "outputs": [
    {
     "name": "stdout",
     "output_type": "stream",
     "text": [
      "Training matrix shape (40000, 32, 32, 3)\n",
      "Validation matrix shape (10000, 32, 32, 3)\n",
      "Testing matrix shape (10000, 32, 32, 3)\n"
     ]
    }
   ],
   "source": [
    "#Imports\n",
    "import os\n",
    "import numpy as np\n",
    "from random import seed\n",
    "seed(42)\n",
    "\n",
    "import matplotlib.pyplot as plt\n",
    "plt.rcParams['figure.figsize'] = (15,15) # Make the figures a bit bigger\n",
    "\n",
    "from keras.datasets import cifar10\n",
    "from keras.utils import np_utils\n",
    "#from sklearn.cross_validation import StratifiedShuffleSplit\n",
    "from sklearn.model_selection import StratifiedShuffleSplit\n",
    "\n",
    "\n",
    "#Load data\n",
    "(trainVal_data, trainVal_label), (X_test, y_test) = cifar10.load_data()\n",
    "\n",
    "# Caso alguem tenha problemas com o StratifiedShuffleSplit, tente descomentar essa versao\n",
    "#Split trainVal data into train and val sets (already balanced)\n",
    "# splitIdx = StratifiedShuffleSplit(trainVal_label, 1, test_size=10000, random_state=0)\n",
    "# for train_index, val_index in splitIdx:\n",
    "#     X_train, X_val = trainVal_data[train_index], trainVal_data[val_index]\n",
    "#     y_train, y_val = trainVal_label[train_index], trainVal_label[val_index]\n",
    "    \n",
    "\n",
    "splitIdx = StratifiedShuffleSplit(1, test_size=10000, random_state=0)\n",
    "for train_index, val_index in splitIdx.split(trainVal_data, trainVal_label):\n",
    "    X_train, X_val = trainVal_data[train_index], trainVal_data[val_index]\n",
    "    y_train, y_val = trainVal_label[train_index], trainVal_label[val_index]\n",
    "\n",
    "    \n",
    "#Transform data\n",
    "X_train = X_train.reshape(X_train.shape[0], 32, 32, 3)\n",
    "X_val = X_val.reshape(X_val.shape[0], 32, 32, 3)\n",
    "X_test = X_test.reshape(X_test.shape[0], 32, 32, 3)\n",
    "\n",
    "X_train = X_train.astype('float32')\n",
    "X_val = X_val.astype('float32')\n",
    "X_test = X_test.astype('float32')\n",
    "\n",
    "X_train /= 255\n",
    "X_val /= 255\n",
    "X_test /= 255\n",
    "\n",
    "print(\"Training matrix shape\", X_train.shape)\n",
    "print(\"Validation matrix shape\", X_val.shape)\n",
    "print(\"Testing matrix shape\", X_test.shape)\n",
    "\n",
    "Y_train = np_utils.to_categorical(y_train, 10)\n",
    "Y_val = np_utils.to_categorical(y_val, 10)\n",
    "Y_test = np_utils.to_categorical(y_test, 10)"
   ]
  },
  {
   "cell_type": "markdown",
   "metadata": {},
   "source": [
    "--------\n",
    "--------\n",
    "--------\n",
    "**A tarefa de vocês começa aqui!!!**"
   ]
  },
  {
   "cell_type": "markdown",
   "metadata": {},
   "source": [
    "# Definir as duas arquiteturas - [0.3 pontos]\n",
    "***Não se esqueçam de***:\n",
    "    - Importar as camadas utilizadas e o tipo do modelo (Sequential);\n",
    "    - Passar o input_shape na primeira camada da rede;\n",
    "    - Utilizar ativação `softmax` na última camada densa da rede;"
   ]
  },
  {
   "cell_type": "code",
   "execution_count": 34,
   "metadata": {},
   "outputs": [],
   "source": [
    "#Imports\n",
    "from keras.models import Sequential\n",
    "from keras.layers.core import Dense, Dropout, Flatten\n",
    "from keras.layers import Conv2D, MaxPooling2D\n",
    "from keras import optimizers # other stuff needed ... \n",
    "from keras.optimizers import Adam\n",
    "from keras.callbacks import EarlyStopping"
   ]
  },
  {
   "cell_type": "code",
   "execution_count": 35,
   "metadata": {},
   "outputs": [],
   "source": [
    "# Define 1st architecture\n",
    "modelOne = Sequential()\n",
    "classes = 10\n",
    "modelOne.add(Conv2D(20, kernel_size=(5,5), activation='relu', input_shape=(32,32,3)))\n",
    "modelOne.add(MaxPooling2D(pool_size=(2,2)))\n",
    "modelOne.add(Flatten())\n",
    "modelOne.add(Dropout(0.25))\n",
    "modelOne.add(Dense(classes, activation='softmax',kernel_initializer='glorot_uniform', kernel_regularizer=None))\n"
   ]
  },
  {
   "cell_type": "code",
   "execution_count": 36,
   "metadata": {},
   "outputs": [],
   "source": [
    "# Define 2nd architecture\n",
    "from keras import regularizers\n",
    "modelTwo = Sequential()\n",
    "modelTwo.add(Conv2D(20, kernel_size=(7, 7),activation='relu',input_shape=(32,32,3)))\n",
    "modelTwo.add(MaxPooling2D(pool_size=(2, 2)))\n",
    "modelTwo.add(Conv2D(20, kernel_size=(5, 5),activation='relu',input_shape=(12, 12, 1)))\n",
    "modelTwo.add(MaxPooling2D(pool_size=(2, 2))) \n",
    "modelTwo.add(Flatten())\n",
    "modelTwo.add(Dense(classes, activation='softmax', kernel_initializer='random_normal', kernel_regularizer=regularizers.l2(0.01)))\n"
   ]
  },
  {
   "cell_type": "markdown",
   "metadata": {},
   "source": [
    "# Treinamento - [0.25 pontos]\n",
    "***Não se esqueçam de***:\n",
    "    - Escolher otimizador e loss;\n",
    "    - Compilar o modelo;\n",
    "    - Definir número de épocas, tamanho do batch (utilizar o mesmo para ambas as redes);\n",
    "    - Passar o conjunto de validação em `validation_data`;"
   ]
  },
  {
   "cell_type": "code",
   "execution_count": 37,
   "metadata": {},
   "outputs": [
    {
     "name": "stdout",
     "output_type": "stream",
     "text": [
      "Train on 40000 samples, validate on 10000 samples\n",
      "Epoch 1/30\n",
      "40000/40000 [==============================] - 36s 903us/step - loss: 2.1231 - acc: 0.2242 - val_loss: 1.9673 - val_acc: 0.3025\n",
      "Epoch 2/30\n",
      "40000/40000 [==============================] - 40s 1ms/step - loss: 1.9315 - acc: 0.3127 - val_loss: 1.8611 - val_acc: 0.3653\n",
      "Epoch 3/30\n",
      "40000/40000 [==============================] - 39s 973us/step - loss: 1.8359 - acc: 0.3569 - val_loss: 1.7852 - val_acc: 0.3853\n",
      "Epoch 4/30\n",
      "40000/40000 [==============================] - 39s 974us/step - loss: 1.7528 - acc: 0.3887 - val_loss: 1.7008 - val_acc: 0.4185\n",
      "Epoch 5/30\n",
      "40000/40000 [==============================] - 38s 958us/step - loss: 1.6869 - acc: 0.4124 - val_loss: 1.6463 - val_acc: 0.4331\n",
      "Epoch 6/30\n",
      "40000/40000 [==============================] - 40s 1ms/step - loss: 1.6314 - acc: 0.4297 - val_loss: 1.6075 - val_acc: 0.4437\n",
      "Epoch 7/30\n",
      "40000/40000 [==============================] - 39s 964us/step - loss: 1.5848 - acc: 0.4464 - val_loss: 1.5574 - val_acc: 0.4585\n",
      "Epoch 8/30\n",
      "40000/40000 [==============================] - 39s 964us/step - loss: 1.5413 - acc: 0.4616 - val_loss: 1.5138 - val_acc: 0.4815\n",
      "Epoch 9/30\n",
      "40000/40000 [==============================] - 39s 964us/step - loss: 1.5023 - acc: 0.4727 - val_loss: 1.4727 - val_acc: 0.4860\n",
      "Epoch 10/30\n",
      "40000/40000 [==============================] - 42s 1ms/step - loss: 1.4672 - acc: 0.4874 - val_loss: 1.4442 - val_acc: 0.4979\n",
      "Epoch 11/30\n",
      "40000/40000 [==============================] - 42s 1ms/step - loss: 1.4404 - acc: 0.4973 - val_loss: 1.4408 - val_acc: 0.4956\n",
      "Epoch 12/30\n",
      "40000/40000 [==============================] - 49s 1ms/step - loss: 1.4158 - acc: 0.5006 - val_loss: 1.4166 - val_acc: 0.5035\n",
      "Epoch 13/30\n",
      "40000/40000 [==============================] - 40s 988us/step - loss: 1.3962 - acc: 0.5095 - val_loss: 1.4027 - val_acc: 0.5124\n",
      "Epoch 14/30\n",
      "40000/40000 [==============================] - 39s 966us/step - loss: 1.3799 - acc: 0.5141 - val_loss: 1.3641 - val_acc: 0.5245\n",
      "Epoch 15/30\n",
      "40000/40000 [==============================] - 37s 937us/step - loss: 1.3638 - acc: 0.5227 - val_loss: 1.3571 - val_acc: 0.5306\n",
      "Epoch 16/30\n",
      "40000/40000 [==============================] - 36s 912us/step - loss: 1.3530 - acc: 0.5264 - val_loss: 1.3440 - val_acc: 0.5334\n",
      "Epoch 17/30\n",
      "40000/40000 [==============================] - 36s 912us/step - loss: 1.3419 - acc: 0.5300 - val_loss: 1.3400 - val_acc: 0.5340\n",
      "Epoch 18/30\n",
      "40000/40000 [==============================] - 37s 936us/step - loss: 1.3310 - acc: 0.5358 - val_loss: 1.3337 - val_acc: 0.5360\n",
      "Epoch 19/30\n",
      "40000/40000 [==============================] - 39s 978us/step - loss: 1.3253 - acc: 0.5361 - val_loss: 1.3221 - val_acc: 0.5369\n",
      "Epoch 20/30\n",
      "40000/40000 [==============================] - 39s 982us/step - loss: 1.3168 - acc: 0.5413 - val_loss: 1.3189 - val_acc: 0.5452\n",
      "Epoch 21/30\n",
      "40000/40000 [==============================] - 39s 978us/step - loss: 1.3088 - acc: 0.5420 - val_loss: 1.3086 - val_acc: 0.5435\n",
      "Epoch 22/30\n",
      "40000/40000 [==============================] - 40s 990us/step - loss: 1.3017 - acc: 0.5429 - val_loss: 1.3279 - val_acc: 0.5447\n",
      "Epoch 23/30\n",
      "40000/40000 [==============================] - 37s 932us/step - loss: 1.2951 - acc: 0.5481 - val_loss: 1.3073 - val_acc: 0.5472\n",
      "Epoch 24/30\n",
      "40000/40000 [==============================] - 38s 940us/step - loss: 1.2896 - acc: 0.5496 - val_loss: 1.3214 - val_acc: 0.5403\n",
      "Epoch 25/30\n",
      "40000/40000 [==============================] - 38s 962us/step - loss: 1.2845 - acc: 0.5505 - val_loss: 1.2873 - val_acc: 0.5526\n",
      "Epoch 26/30\n",
      "40000/40000 [==============================] - 43s 1ms/step - loss: 1.2762 - acc: 0.5526 - val_loss: 1.2761 - val_acc: 0.5613\n",
      "Epoch 27/30\n",
      "40000/40000 [==============================] - 40s 1ms/step - loss: 1.2730 - acc: 0.5536 - val_loss: 1.2849 - val_acc: 0.5565\n",
      "Epoch 28/30\n",
      "40000/40000 [==============================] - 38s 938us/step - loss: 1.2684 - acc: 0.5581 - val_loss: 1.2800 - val_acc: 0.5559\n",
      "Epoch 29/30\n",
      "40000/40000 [==============================] - 38s 962us/step - loss: 1.2600 - acc: 0.5610 - val_loss: 1.2615 - val_acc: 0.5611\n",
      "Epoch 30/30\n",
      "40000/40000 [==============================] - 39s 963us/step - loss: 1.2558 - acc: 0.5608 - val_loss: 1.2585 - val_acc: 0.5692\n"
     ]
    }
   ],
   "source": [
    "historyList = []\n",
    "\n",
    "earlystop = EarlyStopping(monitor='val_acc', #metric to monitor\n",
    "                          min_delta=0.01,  #difference considered as improvement\n",
    "                          patience=5) #number of epochs with no improvement after which training will be stopped \n",
    "callbacks_list = [earlystop]\n",
    "\n",
    "#Compile first model\n",
    "sgd = optimizers.SGD(lr=0.01) #lr = learning rate\n",
    "modelOne.compile(loss='categorical_crossentropy', optimizer=sgd, metrics=['accuracy'])\n",
    "\n",
    "#Train first CNN\n",
    "historyList.append(modelOne.fit(X_train, Y_train,\n",
    "          batch_size=128, epochs=30, verbose=1,\n",
    "          validation_data=(X_val, Y_val), callbacks=callbacks_list))"
   ]
  },
  {
   "cell_type": "code",
   "execution_count": 38,
   "metadata": {},
   "outputs": [
    {
     "name": "stdout",
     "output_type": "stream",
     "text": [
      "Train on 40000 samples, validate on 10000 samples\n",
      "Epoch 1/30\n",
      "40000/40000 [==============================] - 66s 2ms/step - loss: 1.9786 - acc: 0.2936 - val_loss: 1.7668 - val_acc: 0.3827\n",
      "Epoch 2/30\n",
      "40000/40000 [==============================] - 67s 2ms/step - loss: 1.6627 - acc: 0.4178 - val_loss: 1.6124 - val_acc: 0.4461\n",
      "Epoch 3/30\n",
      "40000/40000 [==============================] - 68s 2ms/step - loss: 1.5588 - acc: 0.4560 - val_loss: 1.5299 - val_acc: 0.4675\n",
      "Epoch 4/30\n",
      "40000/40000 [==============================] - 67s 2ms/step - loss: 1.4997 - acc: 0.4789 - val_loss: 1.5138 - val_acc: 0.4754\n",
      "Epoch 5/30\n",
      "40000/40000 [==============================] - 72s 2ms/step - loss: 1.4695 - acc: 0.4896 - val_loss: 1.4421 - val_acc: 0.4928\n",
      "Epoch 6/30\n",
      "40000/40000 [==============================] - 74s 2ms/step - loss: 1.4331 - acc: 0.5019 - val_loss: 1.4636 - val_acc: 0.4948\n",
      "Epoch 7/30\n",
      "40000/40000 [==============================] - 72s 2ms/step - loss: 1.4060 - acc: 0.5133 - val_loss: 1.3940 - val_acc: 0.5236\n",
      "Epoch 8/30\n",
      "40000/40000 [==============================] - 69s 2ms/step - loss: 1.3799 - acc: 0.5247 - val_loss: 1.4156 - val_acc: 0.5145\n",
      "Epoch 9/30\n",
      "40000/40000 [==============================] - 99s 2ms/step - loss: 1.3583 - acc: 0.5331 - val_loss: 1.3405 - val_acc: 0.5437\n",
      "Epoch 10/30\n",
      "40000/40000 [==============================] - 114s 3ms/step - loss: 1.3279 - acc: 0.5454 - val_loss: 1.3083 - val_acc: 0.5567\n",
      "Epoch 11/30\n",
      "40000/40000 [==============================] - 91s 2ms/step - loss: 1.3022 - acc: 0.5547 - val_loss: 1.2934 - val_acc: 0.5611\n",
      "Epoch 12/30\n",
      "40000/40000 [==============================] - 68s 2ms/step - loss: 1.2801 - acc: 0.5638 - val_loss: 1.2789 - val_acc: 0.5638\n",
      "Epoch 13/30\n",
      "40000/40000 [==============================] - 66s 2ms/step - loss: 1.2623 - acc: 0.5721 - val_loss: 1.3415 - val_acc: 0.5469\n",
      "Epoch 14/30\n",
      "40000/40000 [==============================] - 66s 2ms/step - loss: 1.2595 - acc: 0.5716 - val_loss: 1.2887 - val_acc: 0.5618\n",
      "Epoch 15/30\n",
      "40000/40000 [==============================] - 68s 2ms/step - loss: 1.2364 - acc: 0.5812 - val_loss: 1.2891 - val_acc: 0.5652\n"
     ]
    }
   ],
   "source": [
    "earlystop = EarlyStopping(monitor='val_acc', #metric to monitor\n",
    "                          min_delta=0.01,  #difference considered as improvement\n",
    "                          patience=5) #number of epochs with no improvement after which training will be stopped \n",
    "callbacks_list = [earlystop]\n",
    "\n",
    "#Compile second model\n",
    "modelTwo.compile(loss='categorical_crossentropy', optimizer='adam', metrics=['accuracy'])\n",
    "\n",
    "#Train second CNN\n",
    "historyList.append(modelTwo.fit(X_train, Y_train, \n",
    "             batch_size=128, epochs=30,verbose=1,\n",
    "             validation_data=(X_val, Y_val), callbacks=callbacks_list))"
   ]
  },
  {
   "cell_type": "markdown",
   "metadata": {},
   "source": [
    "# Resultados no conjunto de teste [0.25 pontos]\n",
    "***Não se esqueçam de***:\n",
    "    - Classificar as imagens do conjunto de teste utilizando cada rede;\n",
    "    - Computar acurácia para cada rede;\n",
    "    - Comparar ambas as acurácias;\n",
    "    - Plotar loss pelo número de épocas no conjunto de treinamento e validação de cada rede. "
   ]
  },
  {
   "cell_type": "code",
   "execution_count": 41,
   "metadata": {},
   "outputs": [
    {
     "name": "stdout",
     "output_type": "stream",
     "text": [
      "10000/10000 [==============================] - 4s 387us/step\n",
      "Test loss: 1.2565189029693604\n",
      "Test accuracy (NOT NORMALIZED): 0.562\n",
      "10000/10000 [==============================] - 6s 618us/step\n",
      "Test loss: 1.308516660118103\n",
      "Test accuracy (NOT NORMALIZED): 0.5577\n"
     ]
    }
   ],
   "source": [
    "# Classify test set\n",
    "score = modelOne.evaluate(X_test, Y_test, verbose=1)\n",
    "print('Test loss:', score[0])\n",
    "print('Test accuracy (NOT NORMALIZED):', score[1])\n",
    "\n",
    "score = modelTwo.evaluate(X_test, Y_test, verbose=1)\n",
    "print('Test loss:', score[0])\n",
    "print('Test accuracy (NOT NORMALIZED):', score[1])"
   ]
  },
  {
   "cell_type": "code",
   "execution_count": 42,
   "metadata": {},
   "outputs": [
    {
     "data": {
      "image/png": "[encoded data removed]",
      "text/plain": [
       "<Figure size 1080x1080 with 1 Axes>"
      ]
     },
     "metadata": {
      "needs_background": "light"
     },
     "output_type": "display_data"
    }
   ],
   "source": [
    "def plot_loss(history, legend, plotSet=\"both\"):\n",
    "    linestyles = ['-', '--']\n",
    "\n",
    "    #Plot Loss\n",
    "    plt.subplot(2, 1, 1)\n",
    "\n",
    "    for idx,hist in enumerate(historyList):\n",
    "        if plotSet in [\"train\", \"both\"]:\n",
    "            plt.plot(hist.history['loss'], linestyle=linestyles[idx%len(linestyles)])\n",
    "        if 'val_loss' in hist.history.keys() and plotSet in [\"test\", \"both\"]:\n",
    "            plt.plot(hist.history['val_loss'], linestyle=linestyles[idx%len(linestyles)])\n",
    "\n",
    "    plt.ylabel('Loss')\n",
    "    plt.xlabel('Epoch')\n",
    "    plt.title(\"Loss\")    \n",
    "    plt.legend(legend, loc='best')    \n",
    "\n",
    "    plt.show()\n",
    "    \n",
    "legend = [\"[TRAIN] modelOne\", \"[TEST] modelOne\", \"[TRAIN] modelTwo\", \"[TEST] modelTwo\"]\n",
    "plot_loss(historyList, legend)"
   ]
  },
  {
   "cell_type": "markdown",
   "metadata": {},
   "source": [
    "# Conclusões [0.2 pontos]\n",
    "Escrevam um parágrafo com as conclusões que vocês tiraram na tarefa. Comentem as diferenças entre as duas arquiteturas e em seus treinamentos, apontando a motivação pelas decisões tomadas. Se o resultado ficou melhor/pior do que o que você esperava, o que você acha que pode ter acontecido?"
   ]
  },
  {
   "cell_type": "markdown",
   "metadata": {},
   "source": [
    "***Para criar os modelos, optamos por seguir o modelo proposto pelo professor durante a Aula 3 e também o utilizado no trabalho 1, fazendo modificações nos parâmetros de configuraçao do modelo e do classificador para testar diferentes opções da biblioteca Keras.***\n",
    "\n",
    "***Entre os dois modelos criados alteramos o tamanho do kernel de (5,5) para (7,7), removemos o dropout do segundo modelo, utilizamos dois otimizadores diferentes, sgd e adam e por fim utilizamos diferentes camadas \"fully connected\" de 10 neurônios com diferentes kernels de ativação: glorot_uniform e random_normal, nos modelos one e two, respectivamente. Também utiliamos diferentes regularizações.***\n",
    "\n",
    "***Foi aplicado o \"Early Stopping\" em ambos os modelos para determinar a quantidade de época necessárias.***\n",
    "\n",
    "***Com essas arquiteturas, pudemos ver que o primeir modelo obteve resultado ligeiramente melhor, tanto em perda quanto em acurácia. Pelo gráfico podemos identificar que o modelo two, após a epoca 15 não obteve melhores resultados de acurácia.***"
   ]
  },
  {
   "cell_type": "code",
   "execution_count": null,
   "metadata": {},
   "outputs": [],
   "source": []
  }
 ],
 "metadata": {
  "kernelspec": {
   "display_name": "Python [default]",
   "language": "python",
   "name": "python3"
  },
  "language_info": {
   "codemirror_mode": {
    "name": "ipython",
    "version": 3
   },
   "file_extension": ".py",
   "mimetype": "text/x-python",
   "name": "python",
   "nbconvert_exporter": "python",
   "pygments_lexer": "ipython3",
   "version": "3.6.5"
  }
 },
 "nbformat": 4,
 "nbformat_minor": 1
}
